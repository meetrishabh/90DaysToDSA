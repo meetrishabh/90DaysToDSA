{
 "cells": [
  {
   "cell_type": "markdown",
   "id": "d92b59cd",
   "metadata": {},
   "source": [
    "Day-2"
   ]
  },
  {
   "cell_type": "code",
   "execution_count": 1,
   "id": "17990aa1",
   "metadata": {},
   "outputs": [
    {
     "name": "stdout",
     "output_type": "stream",
     "text": [
      "value of a is: 5\n"
     ]
    }
   ],
   "source": [
    "# initializing variables directly\n",
    "a = 5\n",
    "print(\"value of a is:\",str(a))"
   ]
  },
  {
   "cell_type": "code",
   "execution_count": 2,
   "id": "728ba1d8",
   "metadata": {},
   "outputs": [
    {
     "name": "stdout",
     "output_type": "stream",
     "text": [
      "value of b is: 1\n"
     ]
    }
   ],
   "source": [
    "# Initialising variables using conditional operator\n",
    "b = 1 if 20>10 else 0\n",
    "print(\"value of b is:\",str(b))"
   ]
  },
  {
   "cell_type": "code",
   "execution_count": 3,
   "id": "af6ddcb0",
   "metadata": {},
   "outputs": [
    {
     "name": "stdout",
     "output_type": "stream",
     "text": [
      "Enter your value:10\n",
      "10\n"
     ]
    }
   ],
   "source": [
    "# Input\n",
    "val = input(\"Enter your value:\")\n",
    "print(val)"
   ]
  },
  {
   "cell_type": "code",
   "execution_count": 4,
   "id": "3c62d812",
   "metadata": {},
   "outputs": [
    {
     "name": "stdout",
     "output_type": "stream",
     "text": [
      "Enter number :10\n",
      "10\n",
      "Enter name :rishabh\n",
      "rishabh\n",
      "Type od number <class 'int'>\n",
      "Type of name <class 'str'>\n"
     ]
    }
   ],
   "source": [
    "# Program to check input tupe in python\n",
    "\n",
    "num = int(input(\"Enter number :\"))\n",
    "print(num)\n",
    "name = input(\"Enter name :\")\n",
    "print(name)\n",
    "print(\"Type od number\",type(num))\n",
    "print(\"Type of name\",type(name))"
   ]
  },
  {
   "cell_type": "markdown",
   "id": "291cfce3",
   "metadata": {},
   "source": [
    "Type casting \n"
   ]
  },
  {
   "cell_type": "code",
   "execution_count": 5,
   "id": "7d370bb3",
   "metadata": {},
   "outputs": [
    {
     "name": "stdout",
     "output_type": "stream",
     "text": [
      "10\n",
      "20\n",
      "30\n"
     ]
    }
   ],
   "source": [
    "# typecasting the input to integer\n",
    "\n",
    "num1 = int(input())\n",
    "num2 = int(input())\n",
    "\n",
    "#print sum of integer\n",
    "num3 = num1 + num2\n",
    "print(num3)"
   ]
  },
  {
   "cell_type": "code",
   "execution_count": 6,
   "id": "0dd0d399",
   "metadata": {},
   "outputs": [
    {
     "name": "stdout",
     "output_type": "stream",
     "text": [
      "10.11\n",
      "12.11\n",
      "22.22\n"
     ]
    }
   ],
   "source": [
    "# typecasting input to float\n",
    "num1 = float(input())\n",
    "num2 = float(input())\n",
    "\n",
    "# pinting the sum in float\n",
    "print(num1+num2)"
   ]
  },
  {
   "cell_type": "code",
   "execution_count": 7,
   "id": "1ab1a23c",
   "metadata": {},
   "outputs": [
    {
     "name": "stdout",
     "output_type": "stream",
     "text": [
      "rishabh\n",
      "rishabh\n"
     ]
    }
   ],
   "source": [
    "# typecasting input to string \n",
    "str1 = str(input())\n",
    "print(str1)"
   ]
  },
  {
   "cell_type": "code",
   "execution_count": 9,
   "id": "bee95f29",
   "metadata": {},
   "outputs": [
    {
     "name": "stdout",
     "output_type": "stream",
     "text": [
      "Enter 2 values1 2\n",
      "Number of boys 1\n",
      "Number of girls 2\n",
      "\n"
     ]
    }
   ],
   "source": [
    "# multiple input using split()\n",
    "# taking 2 inputs at a time\n",
    "\n",
    "x,y = input(\"Enter 2 values\").split()\n",
    "print(\"Number of boys\",x)\n",
    "print(\"Number of girls\",y)\n",
    "print()"
   ]
  },
  {
   "cell_type": "code",
   "execution_count": 11,
   "id": "592e88a1",
   "metadata": {},
   "outputs": [
    {
     "name": "stdout",
     "output_type": "stream",
     "text": [
      "Enter 3 values1 2 3\n",
      "total number of x 1\n",
      "total number of y 2\n",
      "total number of z 3\n"
     ]
    }
   ],
   "source": [
    "# taking 3 inputs at a time\n",
    "x,y,z = input(\"Enter 3 values\").split()\n",
    "print(\"total number of x\",x)\n",
    "print(\"total number of y\",y)\n",
    "print(\"total number of z\",z)"
   ]
  },
  {
   "cell_type": "code",
   "execution_count": 13,
   "id": "1779b7c3",
   "metadata": {},
   "outputs": [
    {
     "name": "stdout",
     "output_type": "stream",
     "text": [
      "enter the 2 values1 2\n",
      "First number is 1 and second number is 2\n",
      "\n"
     ]
    }
   ],
   "source": [
    "# taking 2 numbers at a time\n",
    "a,b=input(\"enter the 2 values\").split()\n",
    "print(\"First number is {} and second number is {}\".format(a,b))\n",
    "print()"
   ]
  },
  {
   "cell_type": "code",
   "execution_count": 15,
   "id": "51504d38",
   "metadata": {},
   "outputs": [
    {
     "name": "stdout",
     "output_type": "stream",
     "text": [
      "Enter multiple values1 2 3 4 \n",
      "List of student : [1, 2, 3, 4]\n"
     ]
    }
   ],
   "source": [
    "# taking multiple input at a time and type casting using a list() function\n",
    "\n",
    "x = list(map(int,input(\"Enter multiple values\").split()))\n",
    "print(\"List of student :\",x)"
   ]
  },
  {
   "cell_type": "code",
   "execution_count": 16,
   "id": "6f5d3bbd",
   "metadata": {},
   "outputs": [
    {
     "name": "stdout",
     "output_type": "stream",
     "text": [
      "Enter 2 values2 3\n",
      "first number is 2\n",
      "second number is 3\n",
      "\n"
     ]
    }
   ],
   "source": [
    "# Taking multiple input at a time and type casting using a list function\n",
    "x,y=[int(x) for x in input(\"Enter 2 values\").split()]\n",
    "print(\"first number is\",x)\n",
    "print(\"second number is\",y)\n",
    "print()"
   ]
  },
  {
   "cell_type": "code",
   "execution_count": 17,
   "id": "fa5a185c",
   "metadata": {},
   "outputs": [
    {
     "name": "stdout",
     "output_type": "stream",
     "text": [
      "1 2 3\n",
      "first number is : 1\n",
      "second number is : 2\n",
      "third number is : 3\n"
     ]
    }
   ],
   "source": [
    "# Taking 3 inputs at a time using list comprehension\n",
    "x,y,z = [int(x) for x in input().split()]\n",
    "print(\"first number is :\",x)\n",
    "print(\"second number is :\",y)\n",
    "print(\"third number is :\",z)"
   ]
  },
  {
   "cell_type": "code",
   "execution_count": 19,
   "id": "4ef6dfab",
   "metadata": {},
   "outputs": [
    {
     "name": "stdout",
     "output_type": "stream",
     "text": [
      "enter two values1 2\n",
      "Numbers are: 1 & 2\n"
     ]
    }
   ],
   "source": [
    "# taking two inputs at a time\n",
    "x,y = [int(x) for x in input(\"enter two values\").split()]\n",
    "print(\"Numbers are:\",x,\"&\",y)"
   ]
  },
  {
   "cell_type": "code",
   "execution_count": 21,
   "id": "415fe34c",
   "metadata": {},
   "outputs": [
    {
     "name": "stdout",
     "output_type": "stream",
     "text": [
      "1 2 2 2\n",
      "Number of list is [1, 2, 2, 2]\n"
     ]
    }
   ],
   "source": [
    "# taking multiple inputs at a time\n",
    "x = [int(x) for x in input().split()]\n",
    "print(\"Number of list is\",x)"
   ]
  },
  {
   "cell_type": "code",
   "execution_count": 23,
   "id": "6cd5b493",
   "metadata": {},
   "outputs": [
    {
     "name": "stdout",
     "output_type": "stream",
     "text": [
      "10,20,30\n",
      "[10, 20, 30]\n"
     ]
    }
   ],
   "source": [
    "# taking multiple input at a time seperated by comma\n",
    "x= [int(x) for x in input().split(\",\")]\n",
    "print(x)"
   ]
  },
  {
   "cell_type": "code",
   "execution_count": null,
   "id": "602ca6c0",
   "metadata": {},
   "outputs": [],
   "source": []
  }
 ],
 "metadata": {
  "kernelspec": {
   "display_name": "Python 3 (ipykernel)",
   "language": "python",
   "name": "python3"
  },
  "language_info": {
   "codemirror_mode": {
    "name": "ipython",
    "version": 3
   },
   "file_extension": ".py",
   "mimetype": "text/x-python",
   "name": "python",
   "nbconvert_exporter": "python",
   "pygments_lexer": "ipython3",
   "version": "3.9.7"
  }
 },
 "nbformat": 4,
 "nbformat_minor": 5
}
