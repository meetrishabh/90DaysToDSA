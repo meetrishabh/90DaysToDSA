{
 "cells": [
  {
   "cell_type": "markdown",
   "id": "454b839a",
   "metadata": {},
   "source": [
    "#### Python 3 basics:\n",
    "Python was developed by Guido Van Rossum"
   ]
  },
  {
   "cell_type": "code",
   "execution_count": 1,
   "id": "b592de1a",
   "metadata": {},
   "outputs": [
    {
     "name": "stdout",
     "output_type": "stream",
     "text": [
      "3\n",
      "2.5\n",
      "hello world\n"
     ]
    }
   ],
   "source": [
    "# Variable Declaration\n",
    "myNumber = 3\n",
    "print(myNumber)\n",
    "\n",
    "myNumber2 = 2.5\n",
    "print(myNumber2)\n",
    "\n",
    "myNumber3 = \"hello world\"\n",
    "print(myNumber3)"
   ]
  },
  {
   "cell_type": "code",
   "execution_count": 2,
   "id": "92d3d228",
   "metadata": {},
   "outputs": [
    {
     "name": "stdout",
     "output_type": "stream",
     "text": [
      "[21, 4.5, 'String']\n"
     ]
    }
   ],
   "source": [
    "# List \n",
    "# append()\n",
    "\n",
    "# created an empty list\n",
    "nums = []\n",
    "\n",
    "# appending data in the list\n",
    "nums.append(21)\n",
    "nums.append(4.5)\n",
    "nums.append(\"String\")\n",
    "\n",
    "print(nums)"
   ]
  },
  {
   "cell_type": "code",
   "execution_count": 3,
   "id": "c2019054",
   "metadata": {},
   "outputs": [
    {
     "name": "stdout",
     "output_type": "stream",
     "text": [
      "Enter number 1:1\n",
      "Enter number 2:1\n",
      "Product is : 1\n"
     ]
    }
   ],
   "source": [
    "\"\"\"Get Input from user\n",
    "   accepting integer from user\n",
    "   return type of input function is string\"\"\"\n",
    "num1 = int(input(\"Enter number 1:\"))\n",
    "num2 = int(input(\"Enter number 2:\"))\n",
    "num3 = num1 * num2\n",
    "print(\"Product is :\",num3)"
   ]
  },
  {
   "cell_type": "code",
   "execution_count": 4,
   "id": "ad1f5e30",
   "metadata": {},
   "outputs": [
    {
     "name": "stdout",
     "output_type": "stream",
     "text": [
      "Number is good\n"
     ]
    }
   ],
   "source": [
    "# Selection statement\n",
    "\n",
    "num1 = 34\n",
    "if(num1>12):\n",
    "    print(\"Number is good\")\n",
    "elif(num>35):\n",
    "    print(\"Number isn't good\")\n",
    "else:\n",
    "    print(\"Number is great\")"
   ]
  },
  {
   "cell_type": "code",
   "execution_count": 5,
   "id": "991c4ffd",
   "metadata": {},
   "outputs": [
    {
     "name": "stdout",
     "output_type": "stream",
     "text": [
      "Hello\n",
      "Hello again\n",
      "Hello\n",
      "Hello again\n"
     ]
    }
   ],
   "source": [
    "# Functions\n",
    "\n",
    "def hello():\n",
    "    print(\"Hello\")\n",
    "    print(\"Hello again\")\n",
    "hello()\n",
    "hello()"
   ]
  },
  {
   "cell_type": "code",
   "execution_count": 6,
   "id": "7965b00d",
   "metadata": {},
   "outputs": [
    {
     "name": "stdout",
     "output_type": "stream",
     "text": [
      "Started\n",
      "Enter Integer1\n",
      "1\n"
     ]
    }
   ],
   "source": [
    "# Main Function\n",
    "\n",
    "def getInteger():\n",
    "    result = int(input(\"Enter Integer\"))\n",
    "    return result\n",
    "\n",
    "def Main():\n",
    "    print(\"Started\")\n",
    "    output = getInteger()\n",
    "    print(output)\n",
    "\n",
    "if __name__==\"__main__\":\n",
    "    Main()"
   ]
  },
  {
   "cell_type": "code",
   "execution_count": 7,
   "id": "3aeefe43",
   "metadata": {},
   "outputs": [
    {
     "name": "stdout",
     "output_type": "stream",
     "text": [
      "0\n",
      "1\n",
      "2\n",
      "3\n",
      "4\n"
     ]
    }
   ],
   "source": [
    "# Simple for loop\n",
    "for steps in range(5):\n",
    "    print(steps)"
   ]
  },
  {
   "cell_type": "code",
   "execution_count": 8,
   "id": "c3cd6a9b",
   "metadata": {},
   "outputs": [
    {
     "name": "stdout",
     "output_type": "stream",
     "text": [
      "85.0\n"
     ]
    }
   ],
   "source": [
    "# Math module\n",
    "\n",
    "import math\n",
    "\n",
    "def Main():\n",
    "    num = -85\n",
    "    \n",
    "    # fabs is used to get the absolute \n",
    "    # value of decimal\n",
    "    num = math.fabs(num)\n",
    "    print(num)\n",
    "\n",
    "if __name__ == \"__main__\":\n",
    "    Main()"
   ]
  },
  {
   "cell_type": "markdown",
   "id": "ff41ae1c",
   "metadata": {},
   "source": [
    "##### Python Keywords"
   ]
  },
  {
   "cell_type": "code",
   "execution_count": 9,
   "id": "16785d91",
   "metadata": {},
   "outputs": [
    {
     "name": "stdout",
     "output_type": "stream",
     "text": [
      "True\n",
      "True\n",
      "3\n",
      "1\n",
      "False\n",
      "False\n"
     ]
    }
   ],
   "source": [
    "# True, False, None\n",
    "print(False==0)\n",
    "print(True==1)\n",
    "\n",
    "print(True + True + True)\n",
    "print(True + False + False)\n",
    "\n",
    "print(None==0)\n",
    "print(None==1)"
   ]
  },
  {
   "cell_type": "markdown",
   "id": "b19ac83d",
   "metadata": {},
   "source": [
    "##### and, or, not, in, is"
   ]
  },
  {
   "cell_type": "code",
   "execution_count": 10,
   "id": "267369b5",
   "metadata": {},
   "outputs": [
    {
     "name": "stdout",
     "output_type": "stream",
     "text": [
      "True\n",
      "False\n",
      "False\n"
     ]
    }
   ],
   "source": [
    "print(True or False)\n",
    "print(False and True)\n",
    "print(not True)"
   ]
  },
  {
   "cell_type": "code",
   "execution_count": 11,
   "id": "1c68435c",
   "metadata": {},
   "outputs": [
    {
     "name": "stdout",
     "output_type": "stream",
     "text": [
      "s is a part of Geeksforgeeks\n"
     ]
    }
   ],
   "source": [
    "# Using \"in\" to check\n",
    "\n",
    "if 's' in 'Geeksforgeeks':\n",
    "    print(\"s is a part of Geeksforgeeks\")\n",
    "else:\n",
    "    print(\"s is not a part of Geeksforgeeks\")\n",
    "\n"
   ]
  },
  {
   "cell_type": "code",
   "execution_count": 12,
   "id": "05a786c4",
   "metadata": {},
   "outputs": [
    {
     "name": "stdout",
     "output_type": "stream",
     "text": [
      "G e e k s f o r g e e k s "
     ]
    }
   ],
   "source": [
    "# Using in to loop through\n",
    "\n",
    "for i in \"Geeksforgeeks\":\n",
    "    print(i, end=\" \")"
   ]
  },
  {
   "cell_type": "code",
   "execution_count": 13,
   "id": "5c41f4cd",
   "metadata": {},
   "outputs": [
    {
     "name": "stdout",
     "output_type": "stream",
     "text": [
      "0 1 2 3 4 5 6 \n"
     ]
    }
   ],
   "source": [
    "# Using a for loop: break\n",
    "\n",
    "for i in range(10):\n",
    "    print(i,end=\" \")\n",
    "    if i==6:\n",
    "        break\n",
    "print()        "
   ]
  },
  {
   "cell_type": "code",
   "execution_count": 14,
   "id": "5c0158f1",
   "metadata": {},
   "outputs": [
    {
     "name": "stdout",
     "output_type": "stream",
     "text": [
      "0 1 2 3 4 5 7 8 9 "
     ]
    }
   ],
   "source": [
    "# break statement\n",
    "\n",
    "for i in range(10):\n",
    "    if(i==6):\n",
    "        i = i + 1\n",
    "        continue\n",
    "    else:\n",
    "        print(i,end=\" \")"
   ]
  },
  {
   "cell_type": "code",
   "execution_count": 15,
   "id": "820fd8b9",
   "metadata": {},
   "outputs": [
    {
     "name": "stdout",
     "output_type": "stream",
     "text": [
      "i is 20\n"
     ]
    }
   ],
   "source": [
    "# Conditional statement\n",
    "\n",
    "i = 20\n",
    "if(i==10):\n",
    "    print(\"i is 10\")\n",
    "elif(i==20):\n",
    "    print(\"i is 20\")\n",
    "else:\n",
    "    print(\"i is not present\")"
   ]
  },
  {
   "cell_type": "code",
   "execution_count": 16,
   "id": "90f4d099",
   "metadata": {},
   "outputs": [
    {
     "name": "stdout",
     "output_type": "stream",
     "text": [
      "Inside Function\n"
     ]
    }
   ],
   "source": [
    "# def keyword\n",
    "\n",
    "def func():\n",
    "    print(\"Inside Function\")\n",
    "func()    "
   ]
  },
  {
   "cell_type": "code",
   "execution_count": 18,
   "id": "da2b10de",
   "metadata": {},
   "outputs": [
    {
     "name": "stdout",
     "output_type": "stream",
     "text": [
      "mammal\n",
      "dog\n"
     ]
    }
   ],
   "source": [
    "# class\n",
    "# program to instantiate the class\n",
    "\n",
    "class Dog:\n",
    "    \n",
    "    # simple class attributes\n",
    "    attr1 = \"mammal\"\n",
    "    attr2 = \"dog\"\n",
    "    \n",
    "    # sample method\n",
    "    def fun(self):\n",
    "        print(\"I am a self :\",self.attr1)\n",
    "        print(\"I am a self :\",self.attr2)\n",
    "        \n",
    "# Driver code\n",
    "# object instantiation\n",
    "\n",
    "Rodger = Dog()\n",
    "print(Rodger.attr1)\n",
    "print(Rodger.attr2)"
   ]
  },
  {
   "cell_type": "code",
   "execution_count": 19,
   "id": "814286a5",
   "metadata": {},
   "outputs": [
    {
     "name": "stdout",
     "output_type": "stream",
     "text": [
      "120\n"
     ]
    }
   ],
   "source": [
    "# as keyword\n",
    "import math as gfg\n",
    "print(gfg.factorial(5))"
   ]
  },
  {
   "cell_type": "code",
   "execution_count": 21,
   "id": "96c4ac4a",
   "metadata": {},
   "outputs": [],
   "source": [
    "# pass keyword - null statement\n",
    "n=10\n",
    "for i in range(n):\n",
    "    pass    "
   ]
  },
  {
   "cell_type": "code",
   "execution_count": 22,
   "id": "8366087b",
   "metadata": {},
   "outputs": [
    {
     "name": "stdout",
     "output_type": "stream",
     "text": [
      "343\n"
     ]
    }
   ],
   "source": [
    "# lambda keyword\n",
    "\n",
    "g = lambda x:x*x*x\n",
    "print(g(7))"
   ]
  },
  {
   "cell_type": "code",
   "execution_count": 28,
   "id": "0d9e4839",
   "metadata": {},
   "outputs": [
    {
     "name": "stdout",
     "output_type": "stream",
     "text": [
      "cant divide by zero\n",
      "This is already executed\n",
      "The value of a/b is :\n"
     ]
    },
    {
     "ename": "AssertionError",
     "evalue": "divide by zero error",
     "output_type": "error",
     "traceback": [
      "\u001b[1;31m---------------------------------------------------------------------------\u001b[0m",
      "\u001b[1;31mAssertionError\u001b[0m                            Traceback (most recent call last)",
      "\u001b[1;32m~\\AppData\\Local\\Temp/ipykernel_21652/2762839134.py\u001b[0m in \u001b[0;36m<module>\u001b[1;34m\u001b[0m\n\u001b[0;32m     15\u001b[0m \u001b[1;31m# using assert to check for zero\u001b[0m\u001b[1;33m\u001b[0m\u001b[1;33m\u001b[0m\u001b[0m\n\u001b[0;32m     16\u001b[0m \u001b[0mprint\u001b[0m\u001b[1;33m(\u001b[0m\u001b[1;34m\"The value of a/b is :\"\u001b[0m\u001b[1;33m)\u001b[0m\u001b[1;33m\u001b[0m\u001b[1;33m\u001b[0m\u001b[0m\n\u001b[1;32m---> 17\u001b[1;33m \u001b[1;32massert\u001b[0m \u001b[0mb\u001b[0m \u001b[1;33m!=\u001b[0m \u001b[1;36m0\u001b[0m\u001b[1;33m,\u001b[0m \u001b[1;34m\"divide by zero error\"\u001b[0m\u001b[1;33m\u001b[0m\u001b[1;33m\u001b[0m\u001b[0m\n\u001b[0m\u001b[0;32m     18\u001b[0m \u001b[0mprint\u001b[0m\u001b[1;33m(\u001b[0m\u001b[0ma\u001b[0m\u001b[1;33m/\u001b[0m\u001b[0mb\u001b[0m\u001b[1;33m)\u001b[0m\u001b[1;33m\u001b[0m\u001b[1;33m\u001b[0m\u001b[0m\n",
      "\u001b[1;31mAssertionError\u001b[0m: divide by zero error"
     ]
    }
   ],
   "source": [
    "# Exception Handling keyword -try expect raise finally and assert\n",
    "a = 4\n",
    "b = 0\n",
    "\n",
    "try:\n",
    "    k=a//b\n",
    "    print(k)\n",
    "    # raises a divide by zero exception\n",
    "except:\n",
    "    print(\"cant divide by zero\")\n",
    "finally:\n",
    "    print(\"This is already executed\")\n",
    "\n",
    "# assert keyword\n",
    "# using assert to check for zero\n",
    "print(\"The value of a/b is :\")\n",
    "assert b != 0, \"divide by zero error\"\n",
    "print(a/b)"
   ]
  },
  {
   "cell_type": "code",
   "execution_count": 29,
   "id": "55aeee63",
   "metadata": {},
   "outputs": [
    {
     "name": "stdout",
     "output_type": "stream",
     "text": [
      "20\n",
      "geekforgeeks\n"
     ]
    },
    {
     "ename": "NameError",
     "evalue": "name 'my_variable' is not defined",
     "output_type": "error",
     "traceback": [
      "\u001b[1;31m---------------------------------------------------------------------------\u001b[0m",
      "\u001b[1;31mNameError\u001b[0m                                 Traceback (most recent call last)",
      "\u001b[1;32m~\\AppData\\Local\\Temp/ipykernel_21652/2882644845.py\u001b[0m in \u001b[0;36m<module>\u001b[1;34m\u001b[0m\n\u001b[0;32m     12\u001b[0m \u001b[1;33m\u001b[0m\u001b[0m\n\u001b[0;32m     13\u001b[0m \u001b[1;31m# check for values\u001b[0m\u001b[1;33m\u001b[0m\u001b[1;33m\u001b[0m\u001b[0m\n\u001b[1;32m---> 14\u001b[1;33m \u001b[0mprint\u001b[0m\u001b[1;33m(\u001b[0m\u001b[0mmy_variable\u001b[0m\u001b[1;33m)\u001b[0m\u001b[1;33m\u001b[0m\u001b[1;33m\u001b[0m\u001b[0m\n\u001b[0m\u001b[0;32m     15\u001b[0m \u001b[0mprint\u001b[0m\u001b[1;33m(\u001b[0m\u001b[0mmy_variable2\u001b[0m\u001b[1;33m)\u001b[0m\u001b[1;33m\u001b[0m\u001b[1;33m\u001b[0m\u001b[0m\n",
      "\u001b[1;31mNameError\u001b[0m: name 'my_variable' is not defined"
     ]
    }
   ],
   "source": [
    "# del keyword\n",
    "\n",
    "my_variable = 20\n",
    "my_variable2 = \"geekforgeeks\"\n",
    "\n",
    "print(my_variable)\n",
    "print(my_variable2)\n",
    "\n",
    "# del both the variables\n",
    "del my_variable\n",
    "del my_variable2\n",
    "\n",
    "# check for values \n",
    "print(my_variable)\n",
    "print(my_variable2)"
   ]
  },
  {
   "cell_type": "code",
   "execution_count": 31,
   "id": "905a5b01",
   "metadata": {},
   "outputs": [
    {
     "name": "stdout",
     "output_type": "stream",
     "text": [
      "25\n"
     ]
    }
   ],
   "source": [
    "# global variable\n",
    "a = 15\n",
    "b = 10\n",
    "\n",
    "def add():\n",
    "    c = a + b\n",
    "    print(c)\n",
    "add()"
   ]
  },
  {
   "cell_type": "code",
   "execution_count": 32,
   "id": "cd163ee5",
   "metadata": {},
   "outputs": [
    {
     "name": "stdout",
     "output_type": "stream",
     "text": [
      "10\n"
     ]
    }
   ],
   "source": [
    "# nonlocal variable\n",
    "def fun():\n",
    "    val1 = 0\n",
    "    def gun():\n",
    "        nonlocal val1\n",
    "        val1 = val1 +10\n",
    "        print(val1)\n",
    "    gun()\n",
    "fun()    "
   ]
  },
  {
   "cell_type": "code",
   "execution_count": 33,
   "id": "62090051",
   "metadata": {},
   "outputs": [],
   "source": [
    "# global namespace\n",
    "\n",
    "# var1 is in the local namespace\n",
    "var1 = 5\n",
    "\n",
    "def some_fun():\n",
    "    # var2 is in the local namespace\n",
    "    var2 = 5\n",
    "    def some_inner_fun():\n",
    "        # var3 is inthe nested local namespace\n",
    "        var3 = 7"
   ]
  },
  {
   "cell_type": "code",
   "execution_count": 34,
   "id": "7824c99c",
   "metadata": {},
   "outputs": [
    {
     "name": "stdout",
     "output_type": "stream",
     "text": [
      "6\n"
     ]
    }
   ],
   "source": [
    "# global variable\n",
    "count = 5\n",
    "def some_fun1():\n",
    "    global count\n",
    "    count = count + 1\n",
    "    print(count)\n",
    "some_fun1()    "
   ]
  },
  {
   "cell_type": "code",
   "execution_count": 36,
   "id": "9d38f187",
   "metadata": {},
   "outputs": [
    {
     "name": "stdout",
     "output_type": "stream",
     "text": [
      "inside sum 3\n",
      "inside value of var 10\n"
     ]
    },
    {
     "ename": "NameError",
     "evalue": "name 'var' is not defined",
     "output_type": "error",
     "traceback": [
      "\u001b[1;31m---------------------------------------------------------------------------\u001b[0m",
      "\u001b[1;31mNameError\u001b[0m                                 Traceback (most recent call last)",
      "\u001b[1;32m~\\AppData\\Local\\Temp/ipykernel_21652/2204117660.py\u001b[0m in \u001b[0;36m<module>\u001b[1;34m\u001b[0m\n\u001b[0;32m      8\u001b[0m     \u001b[0msome_inner_fun3\u001b[0m\u001b[1;33m(\u001b[0m\u001b[1;33m)\u001b[0m\u001b[1;33m\u001b[0m\u001b[1;33m\u001b[0m\u001b[0m\n\u001b[0;32m      9\u001b[0m     \u001b[0mprint\u001b[0m\u001b[1;33m(\u001b[0m\u001b[1;34m\"outside value of var\"\u001b[0m\u001b[1;33m,\u001b[0m\u001b[0mvar\u001b[0m\u001b[1;33m)\u001b[0m\u001b[1;33m\u001b[0m\u001b[1;33m\u001b[0m\u001b[0m\n\u001b[1;32m---> 10\u001b[1;33m \u001b[0msome_fun3\u001b[0m\u001b[1;33m(\u001b[0m\u001b[1;33m)\u001b[0m\u001b[1;33m\u001b[0m\u001b[1;33m\u001b[0m\u001b[0m\n\u001b[0m",
      "\u001b[1;32m~\\AppData\\Local\\Temp/ipykernel_21652/2204117660.py\u001b[0m in \u001b[0;36msome_fun3\u001b[1;34m()\u001b[0m\n\u001b[0;32m      7\u001b[0m         \u001b[0mprint\u001b[0m\u001b[1;33m(\u001b[0m\u001b[1;34m\"inside value of var\"\u001b[0m\u001b[1;33m,\u001b[0m\u001b[0mvar\u001b[0m\u001b[1;33m)\u001b[0m\u001b[1;33m\u001b[0m\u001b[1;33m\u001b[0m\u001b[0m\n\u001b[0;32m      8\u001b[0m     \u001b[0msome_inner_fun3\u001b[0m\u001b[1;33m(\u001b[0m\u001b[1;33m)\u001b[0m\u001b[1;33m\u001b[0m\u001b[1;33m\u001b[0m\u001b[0m\n\u001b[1;32m----> 9\u001b[1;33m     \u001b[0mprint\u001b[0m\u001b[1;33m(\u001b[0m\u001b[1;34m\"outside value of var\"\u001b[0m\u001b[1;33m,\u001b[0m\u001b[0mvar\u001b[0m\u001b[1;33m)\u001b[0m\u001b[1;33m\u001b[0m\u001b[1;33m\u001b[0m\u001b[0m\n\u001b[0m\u001b[0;32m     10\u001b[0m \u001b[0msome_fun3\u001b[0m\u001b[1;33m(\u001b[0m\u001b[1;33m)\u001b[0m\u001b[1;33m\u001b[0m\u001b[1;33m\u001b[0m\u001b[0m\n",
      "\u001b[1;31mNameError\u001b[0m: name 'var' is not defined"
     ]
    }
   ],
   "source": [
    "# scope of object\n",
    "\n",
    "def some_fun3():\n",
    "    print(\"inside sum 3\")\n",
    "    def some_inner_fun3():\n",
    "        var = 10\n",
    "        print(\"inside value of var\",var)\n",
    "    some_inner_fun3()\n",
    "    print(\"outside value of var\",var)\n",
    "some_fun3()    "
   ]
  },
  {
   "cell_type": "code",
   "execution_count": null,
   "id": "f25d2948",
   "metadata": {},
   "outputs": [],
   "source": []
  }
 ],
 "metadata": {
  "kernelspec": {
   "display_name": "Python 3 (ipykernel)",
   "language": "python",
   "name": "python3"
  },
  "language_info": {
   "codemirror_mode": {
    "name": "ipython",
    "version": 3
   },
   "file_extension": ".py",
   "mimetype": "text/x-python",
   "name": "python",
   "nbconvert_exporter": "python",
   "pygments_lexer": "ipython3",
   "version": "3.9.7"
  }
 },
 "nbformat": 4,
 "nbformat_minor": 5
}
